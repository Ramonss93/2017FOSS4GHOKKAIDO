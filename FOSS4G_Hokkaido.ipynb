{
 "cells": [
  {
   "cell_type": "markdown",
   "metadata": {},
   "source": [
    "# Global-scale MODIS NDVI time series analysis (with interpolation)"
   ]
  },
  {
   "cell_type": "markdown",
   "metadata": {},
   "source": [
    "### A material for the presentation in FOSS4G-Hokkaido on 1st July 2017."
   ]
  },
  {
   "cell_type": "markdown",
   "metadata": {},
   "source": [
    "Copyright © 2017 Naru. Tsutsumida (naru@kais.kyoto-u.ac.jp)   \n",
    "  \n",
    "    \n",
    "    "
   ]
  },
  {
   "cell_type": "markdown",
   "metadata": {},
   "source": [
    "## Summary"
   ]
  },
  {
   "cell_type": "markdown",
   "metadata": {},
   "source": [
    "Using Google Earth Engine, Annually averaged MODIS MOD13Q1 NDVI data (250m spatial resolution, 16 days intervals) at a global scale are summarised during 2001-2016, then timeseries trend is calculated by Mann-kendall analysis.  \n",
    "Cloud masking and interpolation is not applied but code can be shown."
   ]
  },
  {
   "cell_type": "markdown",
   "metadata": {},
   "source": [
    "## Prerequisite"
   ]
  },
  {
   "cell_type": "markdown",
   "metadata": {},
   "source": [
    "- python environments are installed.  \n",
    "- Your Google account is accessible to Google Earth Engine. https://code.earthengine.google.com  \n",
    "- The 'ee' python package for google earth engine api needs to be installed in advance.  \n",
    "see: https://developers.google.com/earth-engine/python_install\n",
    " "
   ]
  },
  {
   "cell_type": "markdown",
   "metadata": {},
   "source": [
    "## 1. Initial setting"
   ]
  },
  {
   "cell_type": "code",
   "execution_count": 1,
   "metadata": {
    "collapsed": true
   },
   "outputs": [],
   "source": [
    "from IPython.display import Image, display, HTML\n",
    "\n",
    "%matplotlib inline\n",
    "\n",
    "from pylab import *\n",
    "import datetime\n",
    "import math\n",
    "import time\n",
    "\n",
    "import ee\n",
    "ee.Initialize()"
   ]
  },
  {
   "cell_type": "markdown",
   "metadata": {},
   "source": [
    "## 2. Functions for MODIS MOD13Q1 NDVI"
   ]
  },
  {
   "cell_type": "markdown",
   "metadata": {},
   "source": [
    " MODIS QA mask to filter out low quality pixels. several approaches for QA masks can be applied (but used only maskSummaryQA function)"
   ]
  },
  {
   "cell_type": "code",
   "execution_count": 2,
   "metadata": {
    "collapsed": true
   },
   "outputs": [],
   "source": [
    "def getQABits(image, start, end, newName):\n",
    "    #Compute the bits we need to extract.\n",
    "    p = 0\n",
    "    for i in range(start,(end+1)):\n",
    "        p += math.pow(2, i)\n",
    "\n",
    "    # Return a single band image of the extracted QA bits, giving the band\n",
    "    # a new name.\n",
    "    return image.select([0], [newName])\\\n",
    "                  .bitwiseAnd(p)\\\n",
    "                  .rightShift(start)\n",
    "\n",
    "#A function to mask out cloudy pixels.\n",
    "def maskClouds(img):\n",
    "  # Select the QA band.\n",
    "    QA = img.select('DetailedQA')\n",
    "  # Get the MOD_LAND_QA bits\n",
    "    internalCloud = getQABits(QA, 0, 1, 'MOD_LAND_QA')\n",
    "  # Return an image masking out cloudy areas.\n",
    "    return img.mask(internalCloud.eq(0))\n",
    "\n",
    "##originally function for landsat\n",
    "#https://groups.google.com/forum/#!searchin/google-earth-engine-developers/python$20bitwiseAnd%7Csort:relevance/google-earth-engine-developers/OYuUMjFr0Gg/GGtYWh4CAwAJ\n",
    "def maskBadData(image):\n",
    "    invalid = image.select('DetailedQA').bitwiseAnd(0x6).neq(0)\n",
    "    clean = image.mask(invalid.Not())\n",
    "    return(clean)\n",
    "\n",
    "def maskSummaryQA(img):\n",
    "    QA = img.select('SummaryQA').eq(0)\n",
    "    best = img.mask(QA)\n",
    "    return(best)\n",
    "\n",
    "# function to add system time band\n",
    "def addTimeBand(image):\n",
    "    return image.addBands(image.metadata('system:time_start').rename([\"time\"]))\n"
   ]
  },
  {
   "cell_type": "markdown",
   "metadata": {},
   "source": [
    "## 3. Pre-processing Input Data (MODIS MOD13Q1 NDVI in 2009)"
   ]
  },
  {
   "cell_type": "markdown",
   "metadata": {},
   "source": [
    "### 3.1 Input data "
   ]
  },
  {
   "cell_type": "markdown",
   "metadata": {},
   "source": [
    "in this demonstration the quality assurance (QA) mask is applied. Only the best quality pixel (QA=0) is picked up."
   ]
  },
  {
   "cell_type": "code",
   "execution_count": 3,
   "metadata": {
    "collapsed": false
   },
   "outputs": [
    {
     "name": "stdout",
     "output_type": "stream",
     "text": [
      "('count:', 368)\n"
     ]
    }
   ],
   "source": [
    "modisNDVI = ee.ImageCollection('MODIS/006/MOD13Q1') \\\n",
    ".select(['NDVI', \"SummaryQA\"]) \\\n",
    ".filterDate('2001-01-01', '2016-12-31') \\\n",
    ".sort('system:time_start') \n",
    "\n",
    "count = modisNDVI.size().getInfo()  ## total number of selected images\n",
    "print('count:', count)"
   ]
  },
  {
   "cell_type": "code",
   "execution_count": 4,
   "metadata": {
    "collapsed": true
   },
   "outputs": [],
   "source": [
    "filteredMODIS = modisNDVI \\\n",
    ".map(maskSummaryQA) \\\n",
    ".select('NDVI')"
   ]
  },
  {
   "cell_type": "markdown",
   "metadata": {},
   "source": [
    "### 3.2 see detailed information"
   ]
  },
  {
   "cell_type": "markdown",
   "metadata": {},
   "source": [
    "toList(1,X). X=0,1,... first image as X=0, second as X=1....  \n",
    "check the info of first image"
   ]
  },
  {
   "cell_type": "code",
   "execution_count": 5,
   "metadata": {
    "collapsed": false
   },
   "outputs": [
    {
     "name": "stdout",
     "output_type": "stream",
     "text": [
      "('scale:', 231.65635826395828)\n",
      "('DATE:', '2001_01_01')\n"
     ]
    }
   ],
   "source": [
    "img1 = ee.Image(filteredMODIS.toList(1,0).get(0))\n",
    "scale = img1.projection().nominalScale().getInfo()\n",
    "props = img1.getInfo()['properties']\n",
    "date = props['system:time_start']\n",
    "system_time = datetime.datetime.fromtimestamp((date / 1000) - 3600) \n",
    "date_str = system_time.strftime(\"%Y_%m_%d\")\n",
    "\n",
    "img1 = img1.set('bands', date_str)\n",
    "\n",
    "##check metadata\n",
    "print('scale:', scale)   ##spatial resolution\n",
    "print('DATE:', date_str) ##first date\n"
   ]
  },
  {
   "cell_type": "markdown",
   "metadata": {},
   "source": [
    "### 3.3 Smoothing data"
   ]
  },
  {
   "cell_type": "markdown",
   "metadata": {},
   "source": [
    "reference: https://code.earthengine.google.com/a675608eb96f135024b0b2185f3889ee"
   ]
  },
  {
   "cell_type": "code",
   "execution_count": 6,
   "metadata": {
    "collapsed": false
   },
   "outputs": [],
   "source": [
    "## This field contains UNIX time in milliseconds.\n",
    "timeField = 'system:time_start'\n",
    "join = ee.Join.saveAll('images')\n",
    "\n",
    "interval = 72 ##72 days\n",
    "\n",
    "##ee.Filter.maxDifference:  \n",
    "##Creates a unary or binary filter that passes if the left and right operands, both numbers, are within a given maximum difference. If used as a join condition, this numeric difference is used as a join measure.\n",
    "diffFilter =  ee.Filter.maxDifference(difference = (1000 * 60 * 60 * 24) * interval,\n",
    "                                      leftField = timeField, \n",
    "                                      rightField = timeField)\n",
    "\n",
    "NeighborJoin = join.apply(primary = filteredMODIS, \n",
    "                               secondary = filteredMODIS, \n",
    "                               condition = diffFilter)\n",
    "\n",
    "def smooth_func(image): \n",
    "    collection = ee.ImageCollection.fromImages(image.get('images'))\n",
    "    return ee.Image(image).addBands(collection.mean().rename(['smooth']))\n",
    "\n",
    "\n",
    "smoothed = ee.ImageCollection(NeighborJoin.map(smooth_func))"
   ]
  },
  {
   "cell_type": "markdown",
   "metadata": {},
   "source": [
    "See a map of whole mean NDVI in 2001-2016.  \n",
    "Note that all data is in GEE server, not in this running environment."
   ]
  },
  {
   "cell_type": "code",
   "execution_count": 8,
   "metadata": {
    "collapsed": false
   },
   "outputs": [
    {
     "name": "stdout",
     "output_type": "stream",
     "text": [
      "https://earthengine.googleapis.com/api/thumb?thumbid=a6ea0d5cf576cf1b79e92b9de9bfd54c&token=b9e7905c88b8e2a974f0883ec739042e\n"
     ]
    },
    {
     "data": {
      "text/html": [
       "<img src=\"https://earthengine.googleapis.com/api/thumb?thumbid=a6ea0d5cf576cf1b79e92b9de9bfd54c&token=72c612dae9684ded0ad501f179628a87\" width=\"900\" class=\"unconfined\"/>"
      ],
      "text/plain": [
       "<IPython.core.display.Image object>"
      ]
     },
     "execution_count": 8,
     "metadata": {},
     "output_type": "execute_result"
    }
   ],
   "source": [
    "regionfilter = ee.Geometry.Polygon([-170, 80, 0, 80, 170, 80, 170, -80, 10, -80, -170, -80]).toGeoJSON()\n",
    "\n",
    "ndvi_palette = 'FFFFFF, CE7E45, DF923D, F1B555, FCD163, 99B718, 74A901, 66A000, 529400, 3E8601, 207401, 056201, 004C00, 023B01, 012E01, 011D01, 011301'\n",
    "vizParams = {'min': -2000, \n",
    "             'max': 10000, \n",
    "             'region':regionfilter,\n",
    "             'palette': ndvi_palette}\n",
    "\n",
    "img = smoothed.select('smooth').mean()\n",
    "%config InlineBackend.figure_format = 'retina'    \n",
    "print(img.getThumbUrl(vizParams))\n",
    "Image(url=img.getThumbUrl(vizParams), width=900, unconfined=True)\n"
   ]
  },
  {
   "cell_type": "markdown",
   "metadata": {},
   "source": [
    "## 4. Trend analysis of annual average of NDVI in 2001-2016"
   ]
  },
  {
   "cell_type": "markdown",
   "metadata": {},
   "source": [
    "After annual averaged NDVI datasets in 2001-2016 are calculated. Here Mann-Kendall trend test is applied.  \n",
    "Keep in mind as p-values are not calculated at this time on GEE (1st July 2017),   \n",
    "The statistically significant test is not available. "
   ]
  },
  {
   "cell_type": "markdown",
   "metadata": {},
   "source": [
    "### 4.1 parameters settings"
   ]
  },
  {
   "cell_type": "code",
   "execution_count": 9,
   "metadata": {
    "collapsed": false
   },
   "outputs": [],
   "source": [
    "#create name list\n",
    "\n",
    "yr = range(2001, 2017)\n",
    "yr = map(str, yr)\n",
    "num=len(range(2001, 2017))\n",
    "yy = np.array([\"Y\"]*num)\n",
    "years = np.core.defchararray.add(yy, yr)\n",
    "\n",
    "st = np.array([\"-01-01\"]*num)\n",
    "ed = np.array([\"-12-31\"]*num)\n",
    "\n",
    "starts = np.core.defchararray.add(yr, st)\n",
    "ends = np.core.defchararray.add(yr, ed)"
   ]
  },
  {
   "cell_type": "markdown",
   "metadata": {},
   "source": [
    "### 4.2 Calculate annual NDVI average"
   ]
  },
  {
   "cell_type": "code",
   "execution_count": 10,
   "metadata": {
    "collapsed": false
   },
   "outputs": [],
   "source": [
    "y = 0\n",
    "MODcoll = smoothed \\\n",
    "        .filterDate(starts[y], ends[y]) \\\n",
    "        .sort('system:time_start') \\\n",
    "        .select('smooth')\n",
    "start = starts[y]\n",
    "end = ends[y]\n",
    "avg = MODcoll.mean().rename([years[y]])\n",
    "\n",
    "for y in range(1, 16):\n",
    "    MODcoll = smoothed \\\n",
    "        .filterDate(starts[y], ends[y]) \\\n",
    "        .sort('system:time_start') \\\n",
    "        .select('smooth')\n",
    "    start = starts[y]\n",
    "    end = ends[y]\n",
    "    average = MODcoll.mean()\n",
    "    avg = avg.addBands(average.rename([years[y]])) "
   ]
  },
  {
   "cell_type": "code",
   "execution_count": 11,
   "metadata": {
    "collapsed": false
   },
   "outputs": [
    {
     "name": "stdout",
     "output_type": "stream",
     "text": [
      "('Number of bands:', 16)\n",
      "Y2001\n",
      "Y2002\n",
      "Y2003\n",
      "Y2004\n",
      "Y2005\n",
      "Y2006\n",
      "Y2007\n",
      "Y2008\n",
      "Y2009\n",
      "Y2010\n",
      "Y2011\n",
      "Y2012\n",
      "Y2013\n",
      "Y2014\n",
      "Y2015\n",
      "Y2016\n"
     ]
    }
   ],
   "source": [
    "info_bands = avg.getInfo()['bands']\n",
    "#print('Dimensions:', info_bands[0]['dimensions'])\n",
    "print('Number of bands:', len(info_bands))\n",
    "##see band names\n",
    "for ids in range(0,len(info_bands),1):\n",
    "    print(info_bands[ids]['id'])"
   ]
  },
  {
   "cell_type": "markdown",
   "metadata": {},
   "source": [
    "### 4.3 Mann-Kendall trend test"
   ]
  },
  {
   "cell_type": "code",
   "execution_count": 12,
   "metadata": {
    "collapsed": true
   },
   "outputs": [],
   "source": [
    "mk_ans = avg.reduce(ee.Reducer.kendallsCorrelation(1))"
   ]
  },
  {
   "cell_type": "code",
   "execution_count": 13,
   "metadata": {
    "collapsed": false
   },
   "outputs": [
    {
     "name": "stdout",
     "output_type": "stream",
     "text": [
      "('Number of bands:', 2)\n",
      "tau\n",
      "p-value\n"
     ]
    }
   ],
   "source": [
    "info_bands = mk_ans.getInfo()['bands']\n",
    "#print('Dimensions:', info_bands[0]['dimensions'])\n",
    "print('Number of bands:', len(info_bands))\n",
    "\n",
    "##see bands\n",
    "for ids in range(0,len(info_bands),1):\n",
    "    print(info_bands[ids]['id'])"
   ]
  },
  {
   "cell_type": "markdown",
   "metadata": {},
   "source": [
    "### 4.4 Display the results"
   ]
  },
  {
   "cell_type": "code",
   "execution_count": 14,
   "metadata": {
    "collapsed": false
   },
   "outputs": [
    {
     "name": "stdout",
     "output_type": "stream",
     "text": [
      "https://earthengine.googleapis.com/api/thumb?thumbid=2b272f30266b5c9c6a8bef68538ead58&token=606e039654f13cd805d8259c94f27611\n"
     ]
    },
    {
     "data": {
      "text/html": [
       "<img src=\"https://earthengine.googleapis.com/api/thumb?thumbid=2b272f30266b5c9c6a8bef68538ead58&token=606e039654f13cd805d8259c94f27611\" width=\"900\" class=\"unconfined\"/>"
      ],
      "text/plain": [
       "<IPython.core.display.Image object>"
      ]
     },
     "execution_count": 14,
     "metadata": {},
     "output_type": "execute_result"
    }
   ],
   "source": [
    "RdBu_palette = '#B2182B, #D6604D, #F4A582, #FDDBC7, #F7F7F7, #D1E5F0, #92C5DE, #4393C3, #2166AC'\n",
    "\n",
    "mk_tau = ee.Image(mk_ans.select('tau')).multiply(10000).int16()\n",
    "url = mk_tau.getThumbUrl({\n",
    "                'min':-10000,\n",
    "                'max':10000,\n",
    "                'region':regionfilter,\n",
    "                'crs': 'EPSG:4326',\n",
    "                'palette': RdBu_palette\n",
    "    })    \n",
    "\n",
    "%config InlineBackend.figure_format = 'retina'    \n",
    "print(url)\n",
    "Image(url=url, width=900, unconfined=True)"
   ]
  },
  {
   "cell_type": "markdown",
   "metadata": {
    "collapsed": true
   },
   "source": [
    "### 4.5 Export Geotiff"
   ]
  },
  {
   "cell_type": "markdown",
   "metadata": {},
   "source": [
    "Export the outputs to Google Drive.  \n",
    "It takes some time.  \n",
    "see: https://stackoverflow.com/questions/39219705/how-to-download-images-using-google-earth-engines-python-api"
   ]
  },
  {
   "cell_type": "code",
   "execution_count": 20,
   "metadata": {
    "collapsed": false
   },
   "outputs": [],
   "source": [
    "globalfilter = ee.Geometry.Polygon([-170, 80, 0, 80, 170, 80, 170, -80, 10, -80, -170, -80])\n",
    "globalfilter = globalfilter['coordinates'][0]\n",
    "\n",
    "task_config = {\n",
    "    'description': 'imageToDriveExample',\n",
    "    'scale': 231.65635826395828,  \n",
    "    'region': globalfilter,\n",
    "    'maxPixels': 5e10\n",
    "    }\n",
    "\n",
    "task = ee.batch.Export.image(mk_tau, 'kenn_0116', task_config)\n",
    "task.start()"
   ]
  },
  {
   "cell_type": "code",
   "execution_count": 21,
   "metadata": {
    "collapsed": false
   },
   "outputs": [
    {
     "name": "stdout",
     "output_type": "stream",
     "text": [
      "Running...\n",
      "Running...\n",
      "Running...\n",
      "Running...\n",
      "Running...\n",
      "Running...\n",
      "Running...\n",
      "Running...\n",
      "Running...\n",
      "Running...\n",
      "Running...\n",
      "Running...\n",
      "Running...\n",
      "Running...\n",
      "Running...\n",
      "Running...\n",
      "Running...\n",
      "Running...\n",
      "Running...\n",
      "Running...\n",
      "Running...\n",
      "Running...\n",
      "Running...\n",
      "Running...\n",
      "Running...\n",
      "Running...\n",
      "Running...\n",
      "Running...\n",
      "Running...\n",
      "Running...\n",
      "Running...\n",
      "Running...\n",
      "Running...\n",
      "Running...\n",
      "Running...\n",
      "Running...\n",
      "Running...\n",
      "Running...\n",
      "Running...\n",
      "Running...\n",
      "Running...\n",
      "Running...\n",
      "Running...\n",
      "Running...\n",
      "Running...\n",
      "Running...\n",
      "Running...\n",
      "Running...\n",
      "Running...\n",
      "Running...\n",
      "Running...\n",
      "Running...\n",
      "Running...\n",
      "Running...\n",
      "Running...\n",
      "Running...\n",
      "Running...\n",
      "Running...\n",
      "Running...\n",
      "Running...\n",
      "Running...\n",
      "Running...\n",
      "Running...\n",
      "Running...\n",
      "Running...\n",
      "Running...\n",
      "Running...\n",
      "Running...\n",
      "Running...\n",
      "Running...\n",
      "Running...\n",
      "Running...\n",
      "Running...\n",
      "Running...\n",
      "Running...\n",
      "Running...\n",
      "Running...\n",
      "Done. {u'task_type': u'EXPORT_IMAGE', u'description': u'imageToDriveExample', u'output_url': [u'https://drive.google.com/', u'https://drive.google.com/', u'https://drive.google.com/', u'https://drive.google.com/', u'https://drive.google.com/', u'https://drive.google.com/', u'https://drive.google.com/', u'https://drive.google.com/'], u'update_timestamp_ms': 1498473239875, u'creation_timestamp_ms': 1498463963513, u'state': u'COMPLETED', u'start_timestamp_ms': 1498463966758, u'id': u'WSDUAHJQMMDN3S2KG2KSPQX3'}\n"
     ]
    }
   ],
   "source": [
    "time.sleep(10)\n",
    "while task.status()['state'] == 'RUNNING':\n",
    "    print 'Running...'\n",
    "    time.sleep(100)\n",
    "print 'Done.', task.status()"
   ]
  },
  {
   "cell_type": "code",
   "execution_count": null,
   "metadata": {
    "collapsed": true
   },
   "outputs": [],
   "source": []
  }
 ],
 "metadata": {
  "anaconda-cloud": {},
  "kernelspec": {
   "display_name": "Python [Root]",
   "language": "python",
   "name": "Python [Root]"
  },
  "language_info": {
   "codemirror_mode": {
    "name": "ipython",
    "version": 2
   },
   "file_extension": ".py",
   "mimetype": "text/x-python",
   "name": "python",
   "nbconvert_exporter": "python",
   "pygments_lexer": "ipython2",
   "version": "2.7.12"
  }
 },
 "nbformat": 4,
 "nbformat_minor": 2
}
