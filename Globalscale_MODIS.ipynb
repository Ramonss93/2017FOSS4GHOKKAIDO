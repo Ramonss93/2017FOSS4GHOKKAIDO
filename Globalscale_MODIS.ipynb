{
 "cells": [
  {
   "cell_type": "markdown",
   "metadata": {},
   "source": [
    "# Global-scale MODIS NDVI time series analysis"
   ]
  },
  {
   "cell_type": "markdown",
   "metadata": {},
   "source": [
    "## 1. initial setting"
   ]
  },
  {
   "cell_type": "code",
   "execution_count": 1,
   "metadata": {
    "collapsed": true
   },
   "outputs": [],
   "source": [
    "from IPython.display import Image, display, HTML\n",
    "\n",
    "%matplotlib inline\n",
    "\n",
    "from pylab import *\n",
    "import datetime\n",
    "import math\n",
    "import time\n",
    "\n",
    "import ee\n",
    "ee.Initialize()"
   ]
  },
  {
   "cell_type": "markdown",
   "metadata": {},
   "source": [
    "## 2. functions for MODIS MOD13Q1 NDVI"
   ]
  },
  {
   "cell_type": "markdown",
   "metadata": {},
   "source": [
    " MODIS QA mask to filter out low quality pixels"
   ]
  },
  {
   "cell_type": "code",
   "execution_count": 2,
   "metadata": {
    "collapsed": true
   },
   "outputs": [],
   "source": [
    "def getQABits(image, start, end, newName):\n",
    "    #Compute the bits we need to extract.\n",
    "    p = 0\n",
    "    for i in range(start,(end+1)):\n",
    "        p += math.pow(2, i)\n",
    "\n",
    "    # Return a single band image of the extracted QA bits, giving the band\n",
    "    # a new name.\n",
    "    return image.select([0], [newName])\\\n",
    "                  .bitwiseAnd(p)\\\n",
    "                  .rightShift(start)\n",
    "\n",
    "#A function to mask out cloudy pixels.\n",
    "def maskClouds(img):\n",
    "  # Select the QA band.\n",
    "    QA = img.select('DetailedQA')\n",
    "  # Get the MOD_LAND_QA bits\n",
    "    internalCloud = getQABits(QA, 0, 1, 'MOD_LAND_QA')\n",
    "  # Return an image masking out cloudy areas.\n",
    "    return img.mask(internalCloud.eq(0))\n",
    "\n",
    "##originally function for landsat\n",
    "#https://groups.google.com/forum/#!searchin/google-earth-engine-developers/python$20bitwiseAnd%7Csort:relevance/google-earth-engine-developers/OYuUMjFr0Gg/GGtYWh4CAwAJ\n",
    "def maskBadData(image):\n",
    "    invalid = image.select('DetailedQA').bitwiseAnd(0x6).neq(0)\n",
    "    clean = image.mask(invalid.Not())\n",
    "    return(clean)\n",
    "\n",
    "def maskSummaryQA(img):\n",
    "    QA = img.select('SummaryQA').eq(0)\n",
    "    best = img.mask(QA)\n",
    "    return(best)"
   ]
  },
  {
   "cell_type": "markdown",
   "metadata": {},
   "source": [
    "## 3. Input Data (MODIS MOD13Q1 NDVI in 2009)"
   ]
  },
  {
   "cell_type": "markdown",
   "metadata": {},
   "source": [
    "### 3.1 Input data "
   ]
  },
  {
   "cell_type": "markdown",
   "metadata": {},
   "source": [
    "in this demonstration the cloud mask is not applied."
   ]
  },
  {
   "cell_type": "code",
   "execution_count": 3,
   "metadata": {
    "collapsed": false
   },
   "outputs": [
    {
     "name": "stdout",
     "output_type": "stream",
     "text": [
      "('count:', 23)\n"
     ]
    }
   ],
   "source": [
    "MODcoll = ee.ImageCollection('MODIS/006/MOD13Q1') \\\n",
    ".filterDate('2001-01-01', '2001-12-31') \\\n",
    ".sort('system:time_start') \\\n",
    ".select('NDVI')\n",
    "\n",
    "#.map(maskClouds) \\\n",
    "#.map(maskBadData)\\\n",
    "#.map(maskSummaryQA) \\\n",
    "\n",
    "count = MODcoll.size().getInfo()\n",
    "print('count:', count);\n",
    "\n",
    "\n"
   ]
  },
  {
   "cell_type": "markdown",
   "metadata": {},
   "source": [
    "### 3.2 see detailed information"
   ]
  },
  {
   "cell_type": "markdown",
   "metadata": {},
   "source": [
    "toList(1,X). X=0,1,... first image as X=0, second as X=1...."
   ]
  },
  {
   "cell_type": "markdown",
   "metadata": {},
   "source": [
    "check the info of first image"
   ]
  },
  {
   "cell_type": "code",
   "execution_count": 4,
   "metadata": {
    "collapsed": false
   },
   "outputs": [
    {
     "name": "stdout",
     "output_type": "stream",
     "text": [
      "('scale:', 231.65635826395828)\n",
      "('DATE:', '2001_01_01')\n"
     ]
    }
   ],
   "source": [
    "img1 = ee.Image(MODcoll.toList(1,0).get(0))\n",
    "scale = img1.projection().nominalScale().getInfo()\n",
    "props = img1.getInfo()['properties']\n",
    "date = props['system:time_start']\n",
    "system_time = datetime.datetime.fromtimestamp((date / 1000) - 3600) \n",
    "date_str = system_time.strftime(\"%Y_%m_%d\")\n",
    "\n",
    "img1 = img1.set('bands', date_str)\n",
    "\n",
    "print('scale:', scale);\n",
    "print('DATE:', date_str)\n"
   ]
  },
  {
   "cell_type": "markdown",
   "metadata": {},
   "source": [
    "### 3.3 Calculate annual average of NDVI"
   ]
  },
  {
   "cell_type": "code",
   "execution_count": 5,
   "metadata": {
    "collapsed": false
   },
   "outputs": [
    {
     "name": "stdout",
     "output_type": "stream",
     "text": [
      "('property:', {u'bands': [{u'crs': u'EPSG:4326', u'crs_transform': [1.0, 0.0, 0.0, 0.0, 1.0, 0.0], u'id': u'NDVI', u'data_type': {u'max': 32767.0, u'type': u'PixelType', u'precision': u'double', u'min': -32768.0}}], u'type': u'Image'})\n"
     ]
    }
   ],
   "source": [
    "img = MODcoll.mean()\n",
    "props = img.getInfo()\n",
    "print('property:', props)\n"
   ]
  },
  {
   "cell_type": "markdown",
   "metadata": {},
   "source": [
    "### 3.4 visualisation"
   ]
  },
  {
   "cell_type": "code",
   "execution_count": 6,
   "metadata": {
    "collapsed": false
   },
   "outputs": [
    {
     "name": "stdout",
     "output_type": "stream",
     "text": [
      "https://earthengine.googleapis.com/api/thumb?thumbid=1c137e89e1a12f5b38b4598a78d471f8&token=d8c12adab15680a057ab9453f1588a74\n"
     ]
    },
    {
     "data": {
      "text/html": [
       "<img src=\"https://earthengine.googleapis.com/api/thumb?thumbid=1c137e89e1a12f5b38b4598a78d471f8&token=ae7ff10cfe2c450334d4d273bfe53f8d\"/>"
      ],
      "text/plain": [
       "<IPython.core.display.Image object>"
      ]
     },
     "execution_count": 6,
     "metadata": {},
     "output_type": "execute_result"
    }
   ],
   "source": [
    "regionfilter = ee.Geometry.Polygon([-170, 80, 0, 80, 170, 80, 170, -80, 10, -80, -170, -80]).toGeoJSON()\n",
    "\n",
    "ndvi_palette = 'FFFFFF, CE7E45, DF923D, F1B555, FCD163, 99B718, 74A901, 66A000, 529400, 3E8601, 207401, 056201, 004C00, 023B01, 012E01, 011D01, 011301'\n",
    "vizParams = {'min': -2000, \n",
    "             'max': 10000, \n",
    "             'region':regionfilter,\n",
    "             'palette': ndvi_palette}\n",
    "\n",
    "\n",
    "%config InlineBackend.figure_format = 'retina'    \n",
    "print(img.getThumbUrl(vizParams))\n",
    "Image(url=img.getThumbUrl(vizParams))\n"
   ]
  },
  {
   "cell_type": "markdown",
   "metadata": {},
   "source": [
    "## 4. Trend analysis of annual average of NDVI in 2001-2016"
   ]
  },
  {
   "cell_type": "markdown",
   "metadata": {},
   "source": [
    "### 4.1 parameters settings"
   ]
  },
  {
   "cell_type": "code",
   "execution_count": 7,
   "metadata": {
    "collapsed": false
   },
   "outputs": [
    {
     "name": "stdout",
     "output_type": "stream",
     "text": [
      "('year:', array(['Y2001', 'Y2002', 'Y2003', 'Y2004', 'Y2005', 'Y2006', 'Y2007',\n",
      "       'Y2008', 'Y2009', 'Y2010', 'Y2011', 'Y2012', 'Y2013', 'Y2014',\n",
      "       'Y2015', 'Y2016'], \n",
      "      dtype='|S5'))\n",
      "('starts:', array(['2001-01-01', '2002-01-01', '2003-01-01', '2004-01-01',\n",
      "       '2005-01-01', '2006-01-01', '2007-01-01', '2008-01-01',\n",
      "       '2009-01-01', '2010-01-01', '2011-01-01', '2012-01-01',\n",
      "       '2013-01-01', '2014-01-01', '2015-01-01', '2016-01-01'], \n",
      "      dtype='|S10'))\n",
      "('ends', array(['2001-12-31', '2002-12-31', '2003-12-31', '2004-12-31',\n",
      "       '2005-12-31', '2006-12-31', '2007-12-31', '2008-12-31',\n",
      "       '2009-12-31', '2010-12-31', '2011-12-31', '2012-12-31',\n",
      "       '2013-12-31', '2014-12-31', '2015-12-31', '2016-12-31'], \n",
      "      dtype='|S10'))\n"
     ]
    }
   ],
   "source": [
    "#create name list\n",
    "\n",
    "yr = range(2001, 2017)\n",
    "yr = map(str, yr)\n",
    "num=len(range(2001, 2017))\n",
    "yy = np.array([\"Y\"]*num)\n",
    "years = np.core.defchararray.add(yy, yr)\n",
    "\n",
    "st = np.array([\"-01-01\"]*num)\n",
    "ed = np.array([\"-12-31\"]*num)\n",
    "\n",
    "starts = np.core.defchararray.add(yr, st)\n",
    "ends = np.core.defchararray.add(yr, ed)\n",
    "\n",
    "#print year\n",
    "print(\"year:\", years)\n",
    "#print starts\n",
    "print(\"starts:\", starts)\n",
    "#print ends\n",
    "print(\"ends\", ends)"
   ]
  },
  {
   "cell_type": "markdown",
   "metadata": {},
   "source": [
    "### 4.2 Calculate annual NDVI"
   ]
  },
  {
   "cell_type": "code",
   "execution_count": 8,
   "metadata": {
    "collapsed": false
   },
   "outputs": [],
   "source": [
    "y = 0\n",
    "MODcoll = ee.ImageCollection('MODIS/006/MOD13Q1') \\\n",
    "        .filterDate(starts[y], ends[y]) \\\n",
    "        .sort('system:time_start') \\\n",
    "        .select('NDVI')\n",
    "start = starts[y]\n",
    "end = ends[y]\n",
    "avg = MODcoll.mean().rename([years[y]])\n",
    "\n",
    "for y in range(1, 16):\n",
    "    MODcoll = ee.ImageCollection('MODIS/006/MOD13Q1') \\\n",
    "        .filterDate(starts[y], ends[y]) \\\n",
    "        .sort('system:time_start') \\\n",
    "        .select('NDVI')\n",
    "    start = starts[y]\n",
    "    end = ends[y]\n",
    "    average = MODcoll.mean()\n",
    "    avg = avg.addBands(average.rename([years[y]])) "
   ]
  },
  {
   "cell_type": "code",
   "execution_count": 9,
   "metadata": {
    "collapsed": false
   },
   "outputs": [
    {
     "name": "stdout",
     "output_type": "stream",
     "text": [
      "('Number of bands:', 16)\n",
      "Y2001\n",
      "Y2002\n",
      "Y2003\n",
      "Y2004\n",
      "Y2005\n",
      "Y2006\n",
      "Y2007\n",
      "Y2008\n",
      "Y2009\n",
      "Y2010\n",
      "Y2011\n",
      "Y2012\n",
      "Y2013\n",
      "Y2014\n",
      "Y2015\n",
      "Y2016\n"
     ]
    }
   ],
   "source": [
    "info_bands = avg.getInfo()['bands']\n",
    "#print('Dimensions:', info_bands[0]['dimensions'])\n",
    "print('Number of bands:', len(info_bands))\n",
    "##see bands\n",
    "for ids in range(0,len(info_bands),1):\n",
    "    print(info_bands[ids]['id'])"
   ]
  },
  {
   "cell_type": "markdown",
   "metadata": {},
   "source": [
    "### 4.3 Mann-Kendall trend test"
   ]
  },
  {
   "cell_type": "code",
   "execution_count": 10,
   "metadata": {
    "collapsed": true
   },
   "outputs": [],
   "source": [
    "kndall_ans = avg.reduce(ee.Reducer.kendallsCorrelation(1))"
   ]
  },
  {
   "cell_type": "code",
   "execution_count": 11,
   "metadata": {
    "collapsed": false
   },
   "outputs": [
    {
     "name": "stdout",
     "output_type": "stream",
     "text": [
      "('Number of bands:', 2)\n",
      "tau\n",
      "p-value\n"
     ]
    }
   ],
   "source": [
    "info_bands = kndall_ans.getInfo()['bands']\n",
    "#print('Dimensions:', info_bands[0]['dimensions'])\n",
    "print('Number of bands:', len(info_bands))\n",
    "\n",
    "##see bands\n",
    "for ids in range(0,len(info_bands),1):\n",
    "    print(info_bands[ids]['id'])"
   ]
  },
  {
   "cell_type": "markdown",
   "metadata": {},
   "source": [
    "### 4.4 Display the results"
   ]
  },
  {
   "cell_type": "code",
   "execution_count": 12,
   "metadata": {
    "collapsed": false
   },
   "outputs": [
    {
     "name": "stdout",
     "output_type": "stream",
     "text": [
      "https://earthengine.googleapis.com/api/thumb?thumbid=f670116d9d3d37412ce45f273cfb2c87&token=c5ae6cd19beb1caf0cfce5f8a537e326\n"
     ]
    },
    {
     "data": {
      "text/html": [
       "<img src=\"https://earthengine.googleapis.com/api/thumb?thumbid=f670116d9d3d37412ce45f273cfb2c87&token=c5ae6cd19beb1caf0cfce5f8a537e326\"/>"
      ],
      "text/plain": [
       "<IPython.core.display.Image object>"
      ]
     },
     "execution_count": 12,
     "metadata": {},
     "output_type": "execute_result"
    }
   ],
   "source": [
    "RdBu_palette = '#B2182B, #D6604D, #F4A582, #FDDBC7, #F7F7F7, #D1E5F0, #92C5DE, #4393C3, #2166AC'\n",
    "\n",
    "kenn_tau = ee.Image(kndall_ans.select('tau')).multiply(10000).int16()\n",
    "url = kenn_tau.getThumbUrl({\n",
    "                'min':-10000,\n",
    "                'max':10000,\n",
    "                'region':regionfilter,\n",
    "                'crs': 'EPSG:4326',\n",
    "                'palette': RdBu_palette\n",
    "    })    \n",
    "\n",
    "%config InlineBackend.figure_format = 'retina'    \n",
    "print(url)\n",
    "Image(url=url)"
   ]
  },
  {
   "cell_type": "markdown",
   "metadata": {
    "collapsed": true
   },
   "source": [
    "### 4.5 Export Geotiff"
   ]
  },
  {
   "cell_type": "code",
   "execution_count": null,
   "metadata": {
    "collapsed": false
   },
   "outputs": [],
   "source": [
    "globalfilter = ee.Geometry.Polygon([-170, 80, 0, 80, 170, 80, 170, -80, 10, -80, -170, -80])\n",
    "globalfilter = globalfilter['coordinates'][0]\n",
    "\n",
    "task_config = {\n",
    "    'description': 'imageToDriveExample',\n",
    "    'scale': 231.65635826395828,  \n",
    "    'region': globalfilter,\n",
    "    'maxPixels': 5e10\n",
    "    }\n",
    "\n",
    "task = ee.batch.Export.image(kenn_tau, 'kenn_0116', task_config)\n",
    "task.start()"
   ]
  },
  {
   "cell_type": "code",
   "execution_count": null,
   "metadata": {
    "collapsed": false
   },
   "outputs": [
    {
     "name": "stdout",
     "output_type": "stream",
     "text": [
      "Running...\n"
     ]
    }
   ],
   "source": [
    "time.sleep(10)\n",
    "while task.status()['state'] == 'RUNNING':\n",
    "    print 'Running...'\n",
    "    time.sleep(100)\n",
    "print 'Done.', task.status()"
   ]
  },
  {
   "cell_type": "code",
   "execution_count": null,
   "metadata": {
    "collapsed": true
   },
   "outputs": [],
   "source": []
  }
 ],
 "metadata": {
  "anaconda-cloud": {},
  "kernelspec": {
   "display_name": "Python [Root]",
   "language": "python",
   "name": "Python [Root]"
  },
  "language_info": {
   "codemirror_mode": {
    "name": "ipython",
    "version": 2
   },
   "file_extension": ".py",
   "mimetype": "text/x-python",
   "name": "python",
   "nbconvert_exporter": "python",
   "pygments_lexer": "ipython2",
   "version": "2.7.12"
  }
 },
 "nbformat": 4,
 "nbformat_minor": 2
}
